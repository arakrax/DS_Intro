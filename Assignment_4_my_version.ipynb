{
 "cells": [
  {
   "cell_type": "markdown",
   "id": "e9959f48",
   "metadata": {
    "deletable": false
   },
   "source": [
    "\n",
    "# Assignment 4 for Course 1MS041\n",
    "Make sure you pass the `# ... Test` cells and\n",
    " submit your solution notebook in the corresponding assignment on the course website. You can submit multiple times before the deadline and your highest score will be used."
   ]
  },
  {
   "cell_type": "markdown",
   "id": "b63d8b71",
   "metadata": {
    "deletable": false,
    "lx_assignment_number": "4",
    "lx_assignment_type": "ASSIGNMENT",
    "lx_assignment_type2print": "Assignment",
    "lx_problem_cell_type": "PROBLEM",
    "lx_problem_number": "1",
    "lx_problem_points": "24"
   },
   "source": [
    "---\n",
    "## Assignment 4, PROBLEM 1\n",
    "Maximum Points = 24"
   ]
  },
  {
   "cell_type": "markdown",
   "id": "04e1585d",
   "metadata": {
    "deletable": false,
    "lx_assignment_number": "4",
    "lx_assignment_type": "ASSIGNMENT",
    "lx_assignment_type2print": "Assignment",
    "lx_problem_cell_type": "PROBLEM",
    "lx_problem_number": "1",
    "lx_problem_points": "24"
   },
   "source": [
    "\n",
    "    This time the assignment only consists of one problem, but we will do a more comprehensive analysis instead.\n",
    "\n",
    "Consider the dataset `Corona_NLP_train.csv` that you can get from the course website [git](https://github.com/datascience-intro/1MS041-2024/blob/main/notebooks/data/Corona_NLP_train.csv). The data is \"Coronavirus tweets NLP - Text Classification\" that can be found on [kaggle](https://www.kaggle.com/datasets/datatattle/covid-19-nlp-text-classification). The data has several columns, but we will only be working with `OriginalTweet`and `Sentiment`.\n",
    "\n",
    "1. [3p] Load the data and filter out those tweets that have `Sentiment`=`Neutral`. Let $X$ represent the `OriginalTweet` and let \n",
    "    $$\n",
    "        Y = \n",
    "        \\begin{cases}\n",
    "        1 & \\text{if sentiment is towards positive}\n",
    "        \\\\\n",
    "        0 & \\text{if sentiment is towards negative}.\n",
    "        \\end{cases}\n",
    "    $$\n",
    "    Put the resulting arrays into the variables $X$ and $Y$. Split the data into three parts, train/test/validation where train is 60% of the data, test is 15% and validation is 25% of the data. Do not do this randomly, this is to make sure that we all did the same splits (we are in this case assuming the data is IID as presented in the dataset). That is [train,test,validation] is the splitting layout.\n",
    "\n",
    "2. [4p] There are many ways to solve this classification problem. The first main issue to resolve is to convert the $X$ variable to something that you can feed into a machine learning model. For instance, you can first use [`CountVectorizer`](https://scikit-learn.org/1.5/modules/generated/sklearn.feature_extraction.text.CountVectorizer.html) as the first step. The step that comes after should be a `LogisticRegression` model, but for this to work you need to put together the `CountVectorizer` and the `LogisticRegression` model into a [`Pipeline`](https://scikit-learn.org/1.5/modules/generated/sklearn.pipeline.Pipeline.html#sklearn.pipeline.Pipeline). Fill in the variable `model` such that it accepts the raw text as input and outputs a number $0$ or $1$, make sure that `model.predict_proba` works for this. **Hint: You might need to play with the parameters of LogisticRegression to get convergence, make sure that it doesn't take too long or the autograder might kill your code**\n",
    "3. [3p] Use your trained model and calculate the precision and recall on both classes. Fill in the corresponding variables with the answer.\n",
    "4. [3p] Let us now define a cost function\n",
    "    * A positive tweet that is classified as negative will have a cost of 1\n",
    "    * A negative tweet that is classified as positive will have a cost of 5\n",
    "    * Correct classifications cost 0\n",
    "    \n",
    "    complete filling the function `cost` to compute the cost of a prediction model under a certain prediction threshold (recall our precision recall lecture and the `predict_proba` function from trained models). \n",
    "\n",
    "5. [4p] Now, we wish to select the threshold of our classifier that minimizes the cost, fill in the selected threshold value in value `optimal_threshold`.\n",
    "6. [4p] With your newly computed threshold value, compute the cost of putting this model in production by computing the cost using the validation data. Also provide a confidence interval of the cost using Hoeffdings inequality with a 99% confidence.\n",
    "7. [3p] Let $t$ be the threshold you found and $f$ the model you fitted (one of the outputs of `predict_proba`), if we define the random variable\n",
    "    $$\n",
    "        C = (1-1_{f(X)\\geq t})Y+5(1-Y)1_{f(X) \\geq t}\n",
    "    $$\n",
    "    then $C$ denotes the cost of a randomly chosen tweet. In the previous step we estimated $\\mathbb{E}[C]$ using the empirical mean. However, since the threshold is chosen to minimize cost it is likely that $C=0$ or $C=1$ than $C=5$ as such it will have a low variance. Compute the empirical variance of $C$ on the validation set. What would be the confidence interval if we used Bennett's inequality instead of Hoeffding in point 6 but with the computed empirical variance as our guess for the variance?"
   ]
  },
  {
   "cell_type": "code",
   "execution_count": 2,
   "id": "49e6fa33",
   "metadata": {
    "deletable": false,
    "lx_assignment_number": "4",
    "lx_assignment_type": "ASSIGNMENT",
    "lx_assignment_type2print": "Assignment",
    "lx_problem_cell_type": "PROBLEM",
    "lx_problem_number": "1",
    "lx_problem_points": "24"
   },
   "outputs": [
    {
     "name": "stdout",
     "output_type": "stream",
     "text": [
      "<class 'numpy.ndarray'>\n",
      "<class 'numpy.str_'>\n",
      "<class 'numpy.ndarray'>\n",
      "(33444,) (33444,)\n",
      "(20066,) (20066,) (5016,) (5016,) (8362,) (8362,)\n"
     ]
    }
   ],
   "source": [
    "import csv \n",
    "import numpy as np\n",
    "# Part 1\n",
    "#\n",
    "# Load the data from the file specified in the problem definition and make sure that it is loaded using\n",
    "# the search path `data/Corona_NLP_train.csv`. This is to make sure the autograder and your computer have the same\n",
    "# file path and can load the data correctly.\n",
    "#\n",
    "# Contrary to how many other problems are structured, this problem actually requires you to\n",
    "# have X on the shape (n_samples, ) that is a 1-dimensional array. Otherwise it will cause a bunch\n",
    "# of errors in the autograder or also in for instance CountVectorizer.\n",
    "#\n",
    "# Make sure that all your data is numpy arrays and not pandas dataframes or series.\n",
    "#\n",
    "# Put the resulting arrays into the variables $X$ and $Y$. \n",
    "# Split the data into three parts, train/test/validation where train is 60% of the data, \n",
    "# test is 15% and validation is 25% of the data. Do not do this randomly, this is to make \n",
    "# sure that we all did the same splits (we are in this case assuming the data is IID as presented\n",
    "# in the dataset). That is [train,test,validation] is the splitting layout.\n",
    "\n",
    "'''\n",
    "import chardet\n",
    "with open('data/Corona_NLP_train.csv', 'rb') as rawdata:\n",
    "    print(chardet.detect(rawdata.read(1000000)))\n",
    "'''\n",
    "\n",
    "with open('data/Corona_NLP_train.csv', newline='', encoding='latin-1') as csvfile:\n",
    "    corona_reader = csv.reader(csvfile, delimiter=',', quotechar='\"')    \n",
    "    offset = 1\n",
    "    X = list()\n",
    "    Y = list()\n",
    "\n",
    "    # move past the \"offset\", to where the data starts\n",
    "    for i in range(offset):\n",
    "        corona_reader.__next__()\n",
    "\n",
    "    for row in corona_reader:\n",
    "        if len(row) > 5:\n",
    "            if 'Positive' in row[5]:\n",
    "                    X.append(row[4])\n",
    "                    Y.append(1)\n",
    "            if 'Negative' in row[5]:\n",
    "                    X.append(row[4])\n",
    "                    Y.append(0)\n",
    "\n",
    "X = np.array(X)\n",
    "Y = np.array(Y)\n",
    "\n",
    "len_train = np.int64(np.round(0.6*len(Y)))\n",
    "len_test  = np.int64(np.floor(0.15*len(Y)))\n",
    "\n",
    "X_train = X[0 : len_train]\n",
    "Y_train = Y[0 : len_train]\n",
    "X_test  = X[len_train : len_train + len_test]\n",
    "Y_test  = Y[len_train : len_train + len_test]\n",
    "X_valid = X[len_train + len_test :]\n",
    "Y_valid = Y[len_train + len_test :]\n",
    "\n",
    "print(type(X))\n",
    "print(type(X[0]))\n",
    "print(type(X[:5]))\n",
    "print(X.shape, Y.shape)\n",
    "print(X_train.shape, Y_train.shape, X_test.shape, Y_test.shape, X_valid.shape, Y_valid.shape)"
   ]
  },
  {
   "cell_type": "code",
   "execution_count": 3,
   "id": "078fe203",
   "metadata": {
    "deletable": false,
    "lx_assignment_number": "4",
    "lx_assignment_type": "ASSIGNMENT",
    "lx_assignment_type2print": "Assignment",
    "lx_problem_cell_type": "PROBLEM",
    "lx_problem_number": "1",
    "lx_problem_points": "24"
   },
   "outputs": [],
   "source": [
    "from sklearn.feature_extraction.text import CountVectorizer\n",
    "from sklearn.linear_model import LogisticRegression  \n",
    "from sklearn.pipeline import Pipeline\n",
    "# Part 2\n",
    "\n",
    "# Train a machine learning model or pipeline that can take the raw strings from X and predict Y=0,1 depending on the\n",
    "# sentiment of the tweet. Store the trained model in the variable `model`.\n",
    "\n",
    "# Create a wordlist of all words in the dataset. They are made to lower case to match the \n",
    "# tokenizer of the CountVectoriser.\n",
    "all_tweets = \" \".join(X)\n",
    "word_list = set(all_tweets.lower().split())\n",
    "\n",
    "# Create pipeline of vectoriser and logistic regression model\n",
    "pipe = Pipeline([('vectorizer', CountVectorizer()), ('log_reg', LogisticRegression())])\n",
    "\n",
    "# Pipeline parameters, use wordlist as vocabulary for all X-data in pipeline\n",
    "# set log_reg to use saga solver with max 1000 iterations.\n",
    "pipe.set_params(vectorizer__vocabulary=word_list,\n",
    "                log_reg__solver='saga', \n",
    "                log_reg__max_iter=1000\n",
    "                )\n",
    "# Train the pipeline on the training data\n",
    "pipe.fit(X_train, Y_train)\n",
    "\n",
    "# Use pipe as model\n",
    "model = pipe\n"
   ]
  },
  {
   "cell_type": "code",
   "execution_count": 4,
   "id": "ec6fd1d4",
   "metadata": {
    "deletable": false,
    "lx_assignment_number": "4",
    "lx_assignment_type": "ASSIGNMENT",
    "lx_assignment_type2print": "Assignment",
    "lx_problem_cell_type": "PROBLEM",
    "lx_problem_number": "1",
    "lx_problem_points": "24"
   },
   "outputs": [
    {
     "name": "stdout",
     "output_type": "stream",
     "text": [
      "0.8563945875163684 0.8741284403669725 0.8511930585683297 0.8786425673183327\n"
     ]
    },
    {
     "data": {
      "text/plain": [
       "'\\nfrom sklearn.metrics import confusion_matrix\\ntn, fp, fn, tp = confusion_matrix(Y_test, predictions).ravel()\\nprint(tn, fp, fn, tp)\\nprint((tp / (tp+fp)), (tp / (tp+fn)))\\n'"
      ]
     },
     "execution_count": 4,
     "metadata": {},
     "output_type": "execute_result"
    }
   ],
   "source": [
    "\n",
    "# Part 3\n",
    "\n",
    "# Evaluate the model on the test set and calculate precision, and recall on both classes. Store the results in the\n",
    "# variables `precision_0`, `precision_1`, `recall_0`, `recall_1`.\n",
    "# precision = TP / (TP+FP)\n",
    "# recall    = TP / (TP+FN)\n",
    "\n",
    "predictions = model.predict(X_test)\n",
    "\n",
    "TP_0 = FP_0 = FN_0 = 0\n",
    "TP_1 = FP_1 = FN_1 = 0\n",
    "\n",
    "for i in range(len(predictions)):\n",
    "    if predictions[i] == Y_test[i] and Y_test[i] == 0:\n",
    "        TP_0 += 1\n",
    "    if predictions[i] == 1 and Y_test[i] == 0:\n",
    "        FN_0 += 1\n",
    "        FP_1 += 1\n",
    "    if predictions[i] == 0 and Y_test[i] == 1:\n",
    "        FP_0 += 1\n",
    "        FN_1 += 1\n",
    "    if predictions[i] == Y_test[i] and Y_test[i] == 1:\n",
    "        TP_1 += 1\n",
    "        \n",
    "\n",
    "precision_0 = TP_0 / (TP_0 + FP_0)\n",
    "precision_1 = TP_1 / (TP_1 + FP_1)\n",
    "recall_0 = TP_0 / (TP_0 + FN_0)\n",
    "recall_1 = TP_1 / (TP_1 + FN_1)\n",
    "\n",
    "print(precision_0, precision_1, recall_0, recall_1)\n",
    "\n",
    "'''\n",
    "from sklearn.metrics import confusion_matrix\n",
    "tn, fp, fn, tp = confusion_matrix(Y_test, predictions).ravel()\n",
    "print(tn, fp, fn, tp)\n",
    "print((tp / (tp+fp)), (tp / (tp+fn)))\n",
    "'''"
   ]
  },
  {
   "cell_type": "code",
   "execution_count": 5,
   "id": "10698374",
   "metadata": {
    "deletable": false,
    "lx_assignment_number": "4",
    "lx_assignment_type": "ASSIGNMENT",
    "lx_assignment_type2print": "Assignment",
    "lx_problem_cell_type": "PROBLEM",
    "lx_problem_number": "1",
    "lx_problem_points": "24"
   },
   "outputs": [],
   "source": [
    "\n",
    "# Part 4\n",
    "\n",
    "def cost(model,threshold,X,Y):\n",
    "    # Hint, make sure that the model has a predict_proba method\n",
    "    # think about how the decision is made based on the probabilities\n",
    "    # and how the threshold can be used to make the decision.\n",
    "    # For reference take a look at the lecture notes \"Bayes classifier\"\n",
    "    # which contains how the decision is made based on the probabilities when the threshold is 0.5.\n",
    "    \n",
    "    # Fill in what is missing to compute the cost and return it\n",
    "    # * A positive tweet that is classified as negative will have a cost of 1\n",
    "    # * A negative tweet that is classified as positive will have a cost of 5\n",
    "    # * Correct classifications cost 0\n",
    "\n",
    "    # Note that we are interested in average cost\n",
    "    \n",
    "    probs = model.predict_proba(X)\n",
    "    cost = 0\n",
    "    \n",
    "    for p, y in zip(probs[:,1], Y):\n",
    "        if p > threshold and y == 0:\n",
    "            cost +=1\n",
    "        elif p <= threshold and y == 1:\n",
    "            cost +=5\n",
    "    \n",
    "    return cost/len(probs)\n"
   ]
  },
  {
   "cell_type": "code",
   "execution_count": 6,
   "id": "b21963ec",
   "metadata": {
    "deletable": false,
    "lx_assignment_number": "4",
    "lx_assignment_type": "ASSIGNMENT",
    "lx_assignment_type2print": "Assignment",
    "lx_problem_cell_type": "PROBLEM",
    "lx_problem_number": "1",
    "lx_problem_points": "24"
   },
   "outputs": [
    {
     "name": "stdout",
     "output_type": "stream",
     "text": [
      "0.22813889508425328 0.27472089314194575\n"
     ]
    },
    {
     "data": {
      "text/plain": [
       "'\\nPrint the cost function to spot any local minima that might mess with the optimiser\\nUse any visual global minima as the second argument to minimize scalar (the x0 argument)\\nres = np.array([cost(model, i/100, X_test, Y_test) for i in range(0,100)])\\nxs = np.array(range(0,100))\\n#print(xs)\\nimport matplotlib.pyplot as plt\\nfig = plt.figure()\\n#print(res)\\nplt.plot(xs,res.reshape(-1))\\nplt.show()\\n'"
      ]
     },
     "execution_count": 6,
     "metadata": {},
     "output_type": "execute_result"
    }
   ],
   "source": [
    "\n",
    "# Part 5\n",
    "\n",
    "# Find the optimal threshold for the model on the test set. Store the threshold in the variable `optimal_threshold`\n",
    "# and the cost at the optimal threshold in the variable `cost_at_optimal_threshold` evaluated on the test set.\n",
    "\n",
    "from scipy.optimize import minimize_scalar\n",
    "\n",
    "def optimize_cost(threshold, model, X, Y):\n",
    "    return cost(model, threshold, X, Y)\n",
    "\n",
    "result = minimize_scalar(optimize_cost, np.array(0.2), args=(model, X_test, Y_test), bounds=(0,1), )\n",
    "\n",
    "optimal_threshold = result.x\n",
    "cost_at_optimal_threshold = result.fun\n",
    "\n",
    "print(optimal_threshold, cost_at_optimal_threshold)\n",
    "\n",
    "'''\n",
    "Print the cost function to spot any local minima that might mess with the optimiser\n",
    "Use any visual global minima as the second argument to minimize scalar (the x0 argument)\n",
    "res = np.array([cost(model, i/100, X_test, Y_test) for i in range(0,100)])\n",
    "xs = np.array(range(0,100))\n",
    "#print(xs)\n",
    "import matplotlib.pyplot as plt\n",
    "fig = plt.figure()\n",
    "#print(res)\n",
    "plt.plot(xs,res.reshape(-1))\n",
    "plt.show()\n",
    "'''"
   ]
  },
  {
   "cell_type": "code",
   "execution_count": 7,
   "id": "79a1c5e6",
   "metadata": {
    "deletable": false,
    "lx_assignment_number": "4",
    "lx_assignment_type": "ASSIGNMENT",
    "lx_assignment_type2print": "Assignment",
    "lx_problem_cell_type": "PROBLEM",
    "lx_problem_number": "1",
    "lx_problem_points": "24"
   },
   "outputs": [
    {
     "name": "stdout",
     "output_type": "stream",
     "text": [
      "0.08297032038145498\n",
      "0.252212389380531\n",
      "(np.float64(0.169242068999076), np.float64(0.33518270976198594))\n"
     ]
    }
   ],
   "source": [
    "\n",
    "# Part 6\n",
    "# Confidence interval\n",
    "# 1-alpha = e^(-2nc^2 / (b-a)^2)\n",
    "# 0.01 = e^(-2nc^2 / 5^2)\n",
    "# ln(0.01) = -2nc^2 / 25\n",
    "# -25ln(0.01)/2n = c^2\n",
    "# c = sqrt(-25ln(0.01)/2n)\n",
    "# (cost - c, cost + c)\n",
    "\n",
    "c = np.sqrt(-25*np.log(0.01)/ (2*len(X_valid)))\n",
    "print(c)\n",
    "\n",
    "cost_at_optimal_threshold_valid = cost(model, optimal_threshold, X_valid, Y_valid)\n",
    "cost_interval_valid = (cost_at_optimal_threshold_valid - c, cost_at_optimal_threshold_valid + c)\n",
    "\n",
    "print(cost_at_optimal_threshold_valid)\n",
    "print((cost_at_optimal_threshold_valid - c, cost_at_optimal_threshold_valid + c))\n",
    "\n",
    "assert(type(cost_interval_valid) == tuple)\n",
    "assert(len(cost_interval_valid) == 2)"
   ]
  },
  {
   "cell_type": "code",
   "execution_count": 8,
   "id": "e3bc0760",
   "metadata": {
    "deletable": false,
    "lx_assignment_number": "4",
    "lx_assignment_type": "ASSIGNMENT",
    "lx_assignment_type2print": "Assignment",
    "lx_problem_cell_type": "PROBLEM",
    "lx_problem_number": "1",
    "lx_problem_points": "24"
   },
   "outputs": [
    {
     "name": "stdout",
     "output_type": "stream",
     "text": [
      "3.3810902311403948\n",
      "[-0.3005026]\n",
      "(np.float64(3.681592829854102), np.float64(3.0805876324266874))\n"
     ]
    }
   ],
   "source": [
    "\n",
    "# Part 7\n",
    "\n",
    "costs = np.zeros(len(Y_valid))\n",
    "probs = model.predict_proba(X_valid)\n",
    "for i, p, y in zip(range(len(costs)), probs[:,1], Y_valid):\n",
    "    ft = 1 if p > optimal_threshold else 0\n",
    "    costs[i] = (1-ft)*y + 5*(1-y)*ft\n",
    "\n",
    "c_avr = np.mean(costs)\n",
    "c_var = np.mean(np.power((costs-c_avr),2))\n",
    "\n",
    "n = len(X_valid)\n",
    "b = np.max(costs) - np.min(costs)\n",
    "import scipy.optimize as so\n",
    "h = lambda u: (1+u)*np.log(1+u)-u\n",
    "f = lambda epsilon: np.exp(-n*c_var/b**2*h(epsilon/c_var))-0.01\n",
    "ans = so.fsolve(f,0.00001)\n",
    "\n",
    "variance_of_C = c_var\n",
    "interval_of_C = (c_var-ans[0], c_var+ans[0])\n",
    "\n",
    "'''\n",
    "import matplotlib.pyplot as plt\n",
    "fig = plt.figure()\n",
    "xs = np.array(range(-int(c_var*20),int(c_var*20)))\n",
    "fs = f(xs/100)\n",
    "plt.plot(xs/100, fs)\n",
    "plt.show()\n",
    "'''\n",
    "print(c_var)\n",
    "print(ans)\n",
    "print((c_var-ans[0], c_var+ans[0]))\n",
    "\n",
    "assert(type(interval_of_C) == tuple)\n",
    "assert(len(interval_of_C) == 2)"
   ]
  }
 ],
 "metadata": {
  "kernelspec": {
   "display_name": "andreas",
   "language": "python",
   "name": "python3"
  },
  "language_info": {
   "codemirror_mode": {
    "name": "ipython",
    "version": 3
   },
   "file_extension": ".py",
   "mimetype": "text/x-python",
   "name": "python",
   "nbconvert_exporter": "python",
   "pygments_lexer": "ipython3",
   "version": "3.11.2"
  },
  "lx_assignment_number": 4,
  "lx_course_instance": "2024",
  "lx_course_name": "Introduction to Data Science",
  "lx_course_number": "1MS041"
 },
 "nbformat": 4,
 "nbformat_minor": 5
}
