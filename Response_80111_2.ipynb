{
 "cells": [
  {
   "cell_type": "markdown",
   "id": "c7e026b3",
   "metadata": {
    "deletable": false
   },
   "source": [
    "\n",
    "# Assignment 1 for Course 1MS041\n",
    "Make sure you pass the `# ... Test` cells and\n",
    " submit your solution notebook in the corresponding assignment on the course website. You can submit multiple times before the deadline and your highest score will be used."
   ]
  },
  {
   "cell_type": "markdown",
   "id": "7aa46aae",
   "metadata": {
    "deletable": false,
    "lx_assignment_number": "1",
    "lx_assignment_type": "ASSIGNMENT",
    "lx_assignment_type2print": "Assignment",
    "lx_problem_cell_type": "PROBLEM",
    "lx_problem_number": "1",
    "lx_problem_points": "3"
   },
   "source": [
    "---\n",
    "## Assignment 1, PROBLEM 1\n",
    "Maximum Points = 3"
   ]
  },
  {
   "cell_type": "markdown",
   "id": "6be79082",
   "metadata": {
    "deletable": false,
    "lx_assignment_number": "1",
    "lx_assignment_type": "ASSIGNMENT",
    "lx_assignment_type2print": "Assignment",
    "lx_problem_cell_type": "PROBLEM",
    "lx_problem_number": "1",
    "lx_problem_points": "3"
   },
   "source": [
    "\n",
    "\n",
    "Given that you are being introduced to data science it is important to bear in mind the true costs of AI, a highly predictive family of algorithms used in data engineering sciences:\n",
    "\n",
    "Read the 16 pages of [ai-anatomy-publication.pdf](http://www.anatomyof.ai/img/ai-anatomy-publication.pdf) with the highly detailed [ai-anatomy-map.pdf](https://anatomyof.ai/img/ai-anatomy-map.pdf) of [https://anatomyof.ai/](https://anatomyof.ai/), \"Anatomy of an AI System\" By Kate Crawford and Vladan Joler (2018).  The first problem in ASSIGNMENT 1 is a trivial test of your reading comprehension.\n",
    "\n",
    "\n",
    "Answer whether each of the following statements is `True` or `False` *according to the authors* by appropriately replacing `Xxxxx` coresponding to `TruthValueOfStatement0a`, `TruthValueOfStatement0b` and `TruthValueOfStatement0c`, respectively, in the next cell to demonstrate your reading comprehension.\n",
    "\n",
    "1. `Statement0a =` *Each small moment of convenience (provided by Amazon's Echo) – be it answering a question, turning on a light, or playing a song – requires a vast planetary network, fueled by the extraction of non-renewable materials, labor, and data.*\n",
    "2. `Statement0b =` *The Echo user is simultaneously a consumer, a resource, a worker, and a product* \n",
    "3. `Statement0c =` *Many of the assumptions about human life made by machine learning systems are narrow, normative and laden with error. Yet they are inscribing and building those assumptions into a new world, and will increasingly play a role in how opportunities, wealth, and knowledge are distributed.*"
   ]
  },
  {
   "cell_type": "code",
   "execution_count": 1,
   "id": "4fa1b7d7",
   "metadata": {
    "deletable": false,
    "execution": {
     "iopub.execute_input": "2024-09-26T13:20:10.954228Z",
     "iopub.status.busy": "2024-09-26T13:20:10.952896Z",
     "iopub.status.idle": "2024-09-26T13:20:10.977635Z",
     "shell.execute_reply": "2024-09-26T13:20:10.976272Z"
    },
    "lx_assignment_number": "1",
    "lx_assignment_type": "ASSIGNMENT",
    "lx_assignment_type2print": "Assignment",
    "lx_problem_cell_type": "PROBLEM",
    "lx_problem_number": "1",
    "lx_problem_points": "3"
   },
   "outputs": [],
   "source": [
    "\n",
    "# Replace Xxxxx with True or False; Don't modify anything else in this cell!\n",
    "\n",
    "TruthValueOfStatement0a = True\n",
    "\n",
    "TruthValueOfStatement0b = True\n",
    "\n",
    "TruthValueOfStatement0c = True"
   ]
  },
  {
   "cell_type": "markdown",
   "id": "3aecf60a",
   "metadata": {
    "deletable": false,
    "lx_assignment_number": "1",
    "lx_assignment_type": "ASSIGNMENT",
    "lx_assignment_type2print": "Assignment",
    "lx_problem_cell_type": "Test",
    "lx_problem_number": "1",
    "lx_problem_points": "3"
   },
   "source": [
    "---\n",
    "#### Local Test for Assignment 1, PROBLEM 1\n",
    "Evaluate cell below to make sure your answer is valid.                             You **should not** modify anything in the cell below when evaluating it to do a local test of                             your solution.\n",
    "You may need to include and evaluate code snippets from lecture notebooks in cells above to make the local test work correctly sometimes (see error messages for clues). This is meant to help you become efficient at recalling materials covered in lectures that relate to this problem. Such local tests will generally not be available in the exam."
   ]
  },
  {
   "cell_type": "code",
   "execution_count": 2,
   "id": "6e4c2214",
   "metadata": {
    "deletable": false,
    "execution": {
     "iopub.execute_input": "2024-09-26T13:20:10.983511Z",
     "iopub.status.busy": "2024-09-26T13:20:10.983110Z",
     "iopub.status.idle": "2024-09-26T13:20:10.989042Z",
     "shell.execute_reply": "2024-09-26T13:20:10.988389Z"
    },
    "lx_assignment_number": "1",
    "lx_assignment_type": "ASSIGNMENT",
    "lx_assignment_type2print": "Assignment",
    "lx_problem_cell_type": "Test",
    "lx_problem_number": "1",
    "lx_problem_points": "3"
   },
   "outputs": [
    {
     "name": "stdout",
     "output_type": "stream",
     "text": [
      "Good, you have answered either True or False. Hopefully they are the correct answers!\n"
     ]
    }
   ],
   "source": [
    "# Test locally to ensure an acceptable answer, True or False\n",
    "try:\n",
    "    assert(isinstance(TruthValueOfStatement0a, bool)) \n",
    "    assert(isinstance(TruthValueOfStatement0b, bool)) \n",
    "    assert(isinstance(TruthValueOfStatement0c, bool))\n",
    "except:\n",
    "    print(\"Try again. You are not writing True or False for your answers.\")\n",
    "else:\n",
    "    print(\"Good, you have answered either True or False. Hopefully they are the correct answers!\")"
   ]
  },
  {
   "cell_type": "code",
   "execution_count": 3,
   "id": "f7eacb3f",
   "metadata": {
    "deletable": false,
    "execution": {
     "iopub.execute_input": "2024-09-26T13:20:10.995169Z",
     "iopub.status.busy": "2024-09-26T13:20:10.994707Z",
     "iopub.status.idle": "2024-09-26T13:20:11.005766Z",
     "shell.execute_reply": "2024-09-26T13:20:11.004856Z"
    },
    "lx_assignment_number": "1",
    "lx_assignment_type": "ASSIGNMENT",
    "lx_assignment_type2print": "Assignment",
    "lx_problem_cell_type": "TEST",
    "lx_problem_number": "1",
    "lx_problem_points": "3",
    "lx_test_only": "True"
   },
   "outputs": [
    {
     "name": "stdout",
     "output_type": "stream",
     "text": [
      "You have the correct answer for TruthValueOfStatement0a, congratulations!\n",
      "The number of points you have scored for this problem so far = 1\n",
      "You have the correct answer for TruthValueOfStatement0b, congratulations!\n",
      "The number of points you have scored for this problem so far = 2\n",
      "You have the correct answer for TruthValueOfStatement0c, congratulations!\n",
      "The number of points you have scored for this problem so far = 3\n",
      "The number of points you have scored for this problem is 3 out of 3\n",
      "The number of points you have accumulated thus far is   3 out of 3\n"
     ]
    }
   ],
   "source": [
    "# ASSIGNMENT 1, TEST 1, POINTS 3"
   ]
  },
  {
   "cell_type": "markdown",
   "id": "2ad8cfe1",
   "metadata": {
    "deletable": false,
    "lx_assignment_number": "1",
    "lx_assignment_type": "ASSIGNMENT",
    "lx_assignment_type2print": "Assignment",
    "lx_problem_cell_type": "PROBLEM",
    "lx_problem_number": "2",
    "lx_problem_points": "2"
   },
   "source": [
    "---\n",
    "## Assignment 1, PROBLEM 2\n",
    "Maximum Points = 2"
   ]
  },
  {
   "cell_type": "markdown",
   "id": "fefff3e3",
   "metadata": {
    "deletable": false,
    "lx_assignment_number": "1",
    "lx_assignment_type": "ASSIGNMENT",
    "lx_assignment_type2print": "Assignment",
    "lx_problem_cell_type": "PROBLEM",
    "lx_problem_number": "2",
    "lx_problem_points": "2"
   },
   "source": [
    "\n",
    "Evaluate the following cells by replacing `X` with the right command-line option to `head` in order to find the first four lines of the csv file `data/final.csv`\n",
    "\n",
    "```\n",
    "%%sh\n",
    "man head\n",
    "\n",
    "HEAD(1)                   BSD General Commands Manual                  HEAD(1)\n",
    "\n",
    "NAME\n",
    "     head -- display first lines of a file\n",
    "\n",
    "SYNOPSIS\n",
    "     head [-n count | -c bytes] [file ...]\n",
    "\n",
    "DESCRIPTION\n",
    "     This filter displays the first count lines or bytes of each of the speci-\n",
    "     fied files, or of the standard input if no files are specified.  If count\n",
    "     is omitted it defaults to 10.\n",
    "\n",
    "     If more than a single file is specified, each file is preceded by a\n",
    "     header consisting of the string ``==> XXX <=='' where ``XXX'' is the name\n",
    "     of the file.\n",
    "\n",
    "EXIT STATUS\n",
    "     The head utility exits 0 on success, and >0 if an error occurs.\n",
    "\n",
    "SEE ALSO\n",
    "     tail(1)\n",
    "\n",
    "HISTORY\n",
    "     The head command appeared in PWB UNIX.\n",
    "\n",
    "BSD                              June 6, 1993                              BSD\n",
    "```"
   ]
  },
  {
   "cell_type": "code",
   "execution_count": 4,
   "id": "482434f3",
   "metadata": {
    "deletable": false,
    "execution": {
     "iopub.execute_input": "2024-09-26T13:20:11.009621Z",
     "iopub.status.busy": "2024-09-26T13:20:11.009285Z",
     "iopub.status.idle": "2024-09-26T13:20:11.061560Z",
     "shell.execute_reply": "2024-09-26T13:20:11.058847Z"
    },
    "lx_assignment_number": "1",
    "lx_assignment_type": "ASSIGNMENT",
    "lx_assignment_type2print": "Assignment",
    "lx_problem_cell_type": "PROBLEM",
    "lx_problem_number": "2",
    "lx_problem_points": "2"
   },
   "outputs": [
    {
     "name": "stdout",
     "output_type": "stream",
     "text": [
      "region,municipality,district,party,votes\r\n",
      "Blekinge län,Karlshamn,0 - Centrala Asarum,S,519\r\n",
      "Blekinge län,Karlshamn,0 - Centrala Asarum,SD,311\r\n",
      "Blekinge län,Karlshamn,0 - Centrala Asarum,M,162\r\n"
     ]
    }
   ],
   "source": [
    "%%sh\n",
    "head -4 data/final.csv"
   ]
  },
  {
   "cell_type": "code",
   "execution_count": 5,
   "id": "b3949d74",
   "metadata": {
    "deletable": false,
    "execution": {
     "iopub.execute_input": "2024-09-26T13:20:11.070832Z",
     "iopub.status.busy": "2024-09-26T13:20:11.070053Z",
     "iopub.status.idle": "2024-09-26T13:20:11.079047Z",
     "shell.execute_reply": "2024-09-26T13:20:11.077219Z"
    },
    "lx_assignment_number": "1",
    "lx_assignment_type": "ASSIGNMENT",
    "lx_assignment_type2print": "Assignment",
    "lx_problem_cell_type": "PROBLEM",
    "lx_problem_number": "2",
    "lx_problem_points": "2"
   },
   "outputs": [],
   "source": [
    "line_1_final = \"region,municipality,district,party,votes\"\n",
    "line_2_final = \"Blekinge län,Karlshamn,0 - Centrala Asarum,S,519\""
   ]
  },
  {
   "cell_type": "markdown",
   "id": "e1830728",
   "metadata": {
    "deletable": false,
    "lx_assignment_number": "1",
    "lx_assignment_type": "ASSIGNMENT",
    "lx_assignment_type2print": "Assignment",
    "lx_problem_cell_type": "Test",
    "lx_problem_number": "2",
    "lx_problem_points": "2"
   },
   "source": [
    "---\n",
    "#### Local Test for Assignment 1, PROBLEM 2\n",
    "Evaluate cell below to make sure your answer is valid.                             You **should not** modify anything in the cell below when evaluating it to do a local test of                             your solution.\n",
    "You may need to include and evaluate code snippets from lecture notebooks in cells above to make the local test work correctly sometimes (see error messages for clues). This is meant to help you become efficient at recalling materials covered in lectures that relate to this problem. Such local tests will generally not be available in the exam."
   ]
  },
  {
   "cell_type": "code",
   "execution_count": 6,
   "id": "2c973b56",
   "metadata": {
    "deletable": false,
    "execution": {
     "iopub.execute_input": "2024-09-26T13:20:11.087373Z",
     "iopub.status.busy": "2024-09-26T13:20:11.086097Z",
     "iopub.status.idle": "2024-09-26T13:20:11.097329Z",
     "shell.execute_reply": "2024-09-26T13:20:11.095975Z"
    },
    "lx_assignment_number": "1",
    "lx_assignment_type": "ASSIGNMENT",
    "lx_assignment_type2print": "Assignment",
    "lx_problem_cell_type": "Test",
    "lx_problem_number": "2",
    "lx_problem_points": "2"
   },
   "outputs": [
    {
     "name": "stdout",
     "output_type": "stream",
     "text": [
      "Good! You have answered as a string for line 1. Hopefully it is the correct!\n",
      "Good! You have answered as a string for line 2. Hopefully it is the correct!\n"
     ]
    }
   ],
   "source": [
    "# Evaluate this cell locally to make sure you have the answer as a string\n",
    "try:\n",
    "    assert(type(line_1_final) == str)\n",
    "    print(\"Good! You have answered as a string for line 1. Hopefully it is the correct!\")\n",
    "except AssertionError:\n",
    "    print(\"Try Again. You should answer with a string.\")\n",
    "try:\n",
    "    assert(type(line_2_final) == str)\n",
    "    print(\"Good! You have answered as a string for line 2. Hopefully it is the correct!\")\n",
    "except AssertionError:\n",
    "    print(\"Try Again. You should answer with a string.\")"
   ]
  },
  {
   "cell_type": "code",
   "execution_count": 7,
   "id": "99cf3543",
   "metadata": {
    "deletable": false,
    "execution": {
     "iopub.execute_input": "2024-09-26T13:20:11.101987Z",
     "iopub.status.busy": "2024-09-26T13:20:11.101583Z",
     "iopub.status.idle": "2024-09-26T13:20:11.110135Z",
     "shell.execute_reply": "2024-09-26T13:20:11.109235Z"
    },
    "lx_assignment_number": "1",
    "lx_assignment_type": "ASSIGNMENT",
    "lx_assignment_type2print": "Assignment",
    "lx_problem_cell_type": "TEST",
    "lx_problem_number": "2",
    "lx_problem_points": "2",
    "lx_test_only": "True"
   },
   "outputs": [
    {
     "name": "stdout",
     "output_type": "stream",
     "text": [
      "You have the correct first line, congratulations!\n",
      "The number of points you have scored for this problem so far = 1\n",
      "You have the correct second line, congratulations!\n",
      "The number of points you have scored for this problem so far = 2\n",
      "The number of points you have scored for this problem is 2 out of 2\n",
      "The number of points you have accumulated thus far is   5 out of 5\n"
     ]
    }
   ],
   "source": [
    "# ASSIGNMENT 1, TEST 2, POINTS 2"
   ]
  },
  {
   "cell_type": "markdown",
   "id": "070074fc",
   "metadata": {
    "deletable": false,
    "lx_assignment_number": "1",
    "lx_assignment_type": "ASSIGNMENT",
    "lx_assignment_type2print": "Assignment",
    "lx_problem_cell_type": "PROBLEM",
    "lx_problem_number": "3",
    "lx_problem_points": "3"
   },
   "source": [
    "---\n",
    "## Assignment 1, PROBLEM 3\n",
    "Maximum Points = 3"
   ]
  },
  {
   "cell_type": "markdown",
   "id": "8fe5a35f",
   "metadata": {
    "deletable": false,
    "lx_assignment_number": "1",
    "lx_assignment_type": "ASSIGNMENT",
    "lx_assignment_type2print": "Assignment",
    "lx_problem_cell_type": "PROBLEM",
    "lx_problem_number": "3",
    "lx_problem_points": "3"
   },
   "source": [
    "\n",
    "In this assignment the goal is to parse the `final.csv` file from the previous problem.\n",
    "\n",
    "1. Read the file `data/final.csv` and parse it using the `csv` package and store the result as follows\n",
    "\n",
    "the `header` variable contains a list of names all as strings\n",
    "\n",
    "the `data` variable should be a list of lists containing all the rows of the csv file"
   ]
  },
  {
   "cell_type": "code",
   "execution_count": 8,
   "id": "5b7bc3dd",
   "metadata": {
    "deletable": false,
    "execution": {
     "iopub.execute_input": "2024-09-26T13:20:11.115011Z",
     "iopub.status.busy": "2024-09-26T13:20:11.114631Z",
     "iopub.status.idle": "2024-09-26T13:20:11.324764Z",
     "shell.execute_reply": "2024-09-26T13:20:11.323982Z"
    },
    "lx_assignment_number": "1",
    "lx_assignment_type": "ASSIGNMENT",
    "lx_assignment_type2print": "Assignment",
    "lx_problem_cell_type": "PROBLEM",
    "lx_problem_number": "3",
    "lx_problem_points": "3"
   },
   "outputs": [],
   "source": [
    "import csv\n",
    "\n",
    "try:\n",
    "    file = open('data/final.csv', newline='')\n",
    "\n",
    "    file_reader = csv.reader(file)\n",
    "\n",
    "    head = file_reader.__next__() \n",
    "    body = list()\n",
    "\n",
    "    for line in file_reader:\n",
    "        body.append(line)\n",
    "\n",
    "except Exception as e:\n",
    "    print(str(e))\n",
    "\n",
    "finally:\n",
    "    try: \n",
    "        file.close()\n",
    "    except Exception as e:\n",
    "        print(str(e))\n",
    "\n",
    "header  = head\n",
    "\n",
    "data    = body\n"
   ]
  },
  {
   "cell_type": "markdown",
   "id": "d8f07ee3",
   "metadata": {
    "deletable": false,
    "lx_assignment_number": "1",
    "lx_assignment_type": "ASSIGNMENT",
    "lx_assignment_type2print": "Assignment",
    "lx_problem_cell_type": "Test",
    "lx_problem_number": "3",
    "lx_problem_points": "3"
   },
   "source": [
    "---\n",
    "#### Local Test for Assignment 1, PROBLEM 3\n",
    "Evaluate cell below to make sure your answer is valid.                             You **should not** modify anything in the cell below when evaluating it to do a local test of                             your solution.\n",
    "You may need to include and evaluate code snippets from lecture notebooks in cells above to make the local test work correctly sometimes (see error messages for clues). This is meant to help you become efficient at recalling materials covered in lectures that relate to this problem. Such local tests will generally not be available in the exam."
   ]
  },
  {
   "cell_type": "code",
   "execution_count": 9,
   "id": "f1beb51a",
   "metadata": {
    "deletable": false,
    "execution": {
     "iopub.execute_input": "2024-09-26T13:20:11.328824Z",
     "iopub.status.busy": "2024-09-26T13:20:11.328376Z",
     "iopub.status.idle": "2024-09-26T13:20:11.350642Z",
     "shell.execute_reply": "2024-09-26T13:20:11.349739Z"
    },
    "lx_assignment_number": "1",
    "lx_assignment_type": "ASSIGNMENT",
    "lx_assignment_type2print": "Assignment",
    "lx_problem_cell_type": "Test",
    "lx_problem_number": "3",
    "lx_problem_points": "3"
   },
   "outputs": [
    {
     "name": "stdout",
     "output_type": "stream",
     "text": [
      "Good! You have the header as a list. Hopefully it is the correct!\n",
      "Good! You have the header as a list of strings. Hopefully it is the correct!\n",
      "Good! You have the data as a list. Hopefully it is the correct!\n",
      "Good! You have the data as a list of lists. Hopefully it is the correct!\n",
      "Good! You have the data as a list of lists of strings. Hopefully it is the correct!\n"
     ]
    }
   ],
   "source": [
    "\n",
    "# Evaluate this cell locally to make sure you have the answer in the right format\n",
    "try:\n",
    "    assert(type(header) == list)\n",
    "    print(\"Good! You have the header as a list. Hopefully it is the correct!\")\n",
    "except AssertionError:\n",
    "    print(\"Try Again. You should answer with a list.\")\n",
    "try:\n",
    "    types = set([type(a) for a in header])\n",
    "    assert((len(types) == 1) and (list(types)[0] == str))\n",
    "    print(\"Good! You have the header as a list of strings. Hopefully it is the correct!\")\n",
    "except AssertionError:\n",
    "    print(\"Try Again. You should answer with a list of strings.\")\n",
    "try:\n",
    "    assert(type(data) == list)\n",
    "    print(\"Good! You have the data as a list. Hopefully it is the correct!\")\n",
    "except AssertionError:\n",
    "    print(\"Try Again. You should answer with a list.\")\n",
    "try:\n",
    "    types = set([type(a) for a in data])\n",
    "    assert((len(types) == 1) and (list(types)[0] == list))\n",
    "    print(\"Good! You have the data as a list of lists. Hopefully it is the correct!\")\n",
    "except AssertionError:\n",
    "    print(\"Try Again. You should answer with a list of lists.\")\n",
    "try:\n",
    "    types = set(sum([[type(d) for d in t] for t in data[:1]],[]))\n",
    "    assert((len(types) == 1) and (list(types)[0] == str))\n",
    "    print(\"Good! You have the data as a list of lists of strings. Hopefully it is the correct!\")\n",
    "except AssertionError:\n",
    "    print(\"Try Again. You should answer with a list of lists of strings.\")"
   ]
  },
  {
   "cell_type": "code",
   "execution_count": 10,
   "id": "885d0180",
   "metadata": {
    "deletable": false,
    "execution": {
     "iopub.execute_input": "2024-09-26T13:20:11.355237Z",
     "iopub.status.busy": "2024-09-26T13:20:11.354906Z",
     "iopub.status.idle": "2024-09-26T13:20:11.571337Z",
     "shell.execute_reply": "2024-09-26T13:20:11.570538Z"
    },
    "lx_assignment_number": "1",
    "lx_assignment_type": "ASSIGNMENT",
    "lx_assignment_type2print": "Assignment",
    "lx_problem_cell_type": "TEST",
    "lx_problem_number": "3",
    "lx_problem_points": "3",
    "lx_test_only": "True",
    "scrolled": true
   },
   "outputs": [
    {
     "name": "stdout",
     "output_type": "stream",
     "text": [
      "Good! Your header coincides with the reference\n",
      "The number of points you have scored for this problem so far = 1\n",
      "Good! Your data coincides with the reference on a test line\n",
      "The number of points you have scored for this problem so far = 3\n",
      "The number of points you have scored for this problem is 3 out of 3\n",
      "The number of points you have accumulated thus far is   8 out of 8\n"
     ]
    }
   ],
   "source": [
    "# ASSIGNMENT 1, TEST 3, POINTS 3"
   ]
  },
  {
   "cell_type": "markdown",
   "id": "19c8958e",
   "metadata": {
    "deletable": false,
    "lx_assignment_number": "1",
    "lx_assignment_type": "ASSIGNMENT",
    "lx_assignment_type2print": "Assignment",
    "lx_problem_cell_type": "PROBLEM",
    "lx_problem_number": "4",
    "lx_problem_points": "8"
   },
   "source": [
    "---\n",
    "## Assignment 1, PROBLEM 4\n",
    "Maximum Points = 8"
   ]
  },
  {
   "cell_type": "markdown",
   "id": "d9b0e8a2",
   "metadata": {
    "deletable": false,
    "lx_assignment_number": "1",
    "lx_assignment_type": "ASSIGNMENT",
    "lx_assignment_type2print": "Assignment",
    "lx_problem_cell_type": "PROBLEM",
    "lx_problem_number": "4",
    "lx_problem_points": "8"
   },
   "source": [
    "\n",
    "## Students passing exam (Sample exam problem)\n",
    "Let's say we have an exam question which consists of $10$ yes/no questions. \n",
    "From past performance of similar students, a randomly chosen student will know the correct answer to $N \\sim \\text{binom}(10,6/10)$ questions. Furthermore, we assume that the student will guess the answer with equal probability to each question they don't know the answer to, i.e. given $N$ we define $Z \\sim \\text{binom}(10-N,1/2)$ as the number of correctly guessed answers. Define $Y = N + Z$, i.e., $Y$ represents the number of total correct answers.\n",
    "\n",
    "We are interested in setting a deterministic threshold $T$, i.e., we would pass a student at threshold $T$ if $Y \\geq T$. Here $T \\in \\{0,1,2,\\ldots,10\\}$.\n",
    "\n",
    "1. [5p] For each threshold $T$, compute the probability that the student *knows* less than $5$ correct answers given that the student passed, i.e., $N < 5$. Put the answer in `problem11_probabilities` as a list.\n",
    "2. [3p] What is the smallest value of $T$ such that if $Y \\geq T$ then we are 90\\% certain that $N \\geq 5$?"
   ]
  },
  {
   "cell_type": "code",
   "execution_count": 11,
   "id": "0a1e3cee",
   "metadata": {
    "deletable": false,
    "execution": {
     "iopub.execute_input": "2024-09-26T13:20:11.575671Z",
     "iopub.status.busy": "2024-09-26T13:20:11.575298Z",
     "iopub.status.idle": "2024-09-26T13:20:12.114492Z",
     "shell.execute_reply": "2024-09-26T13:20:12.113531Z"
    },
    "lx_assignment_number": "1",
    "lx_assignment_type": "ASSIGNMENT",
    "lx_assignment_type2print": "Assignment",
    "lx_problem_cell_type": "PROBLEM",
    "lx_problem_number": "4",
    "lx_problem_points": "8"
   },
   "outputs": [
    {
     "name": "stdout",
     "output_type": "stream",
     "text": [
      "[0.16623861760000005, 0.16623853222282575, 0.16623511712151579, 0.16617364051358016, 0.16551732549063342, 0.1608940308080942, 0.1444527989145165, 0.11223025722358065, 0.07321212315323332, 0.04058456420898439, 0.0197277069091797]\n"
     ]
    }
   ],
   "source": [
    "\n",
    "# Hint the PMF of N is p_N(k) where p_N is\n",
    "from scipy.special import binom as binomial \n",
    "from scipy.stats import binom\n",
    "p = 6/10\n",
    "p_N = lambda k: binomial(10,k)*((1-p)**(10-k))*((p)**k)\n",
    "\n",
    "# Function to calculate p_Z, with indicator for when Z<0\n",
    "\n",
    "def p_Z(T, N):\n",
    "    Z = T - N\n",
    "    if Z <= 0:\n",
    "        return 1  \n",
    "    else:\n",
    "        return 1 - binom.cdf(Z-1, 10-N, 0.5)\n",
    "\n",
    "'''\n",
    "def p_Z(T, N):\n",
    "    Z = T - N\n",
    "    if Z <= 0:\n",
    "        return 1  \n",
    "    else:\n",
    "        return 1 - binomial(10-N, Z) * 0.5**(10-N)\n",
    "'''\n",
    "    \n",
    "# använd fulla bayes formel för där finns en dependence \n",
    "\n",
    "probabilities = list()\n",
    "\n",
    "\n",
    "#Do the calculation for every T\n",
    "for T in range(0,11):\n",
    "    '''\n",
    "    # Compute the numerator P(N < 5 and Y >= T)\n",
    "    numerator = sum([p_N(n) * p_Z2(T, n) for n in range(5)])\n",
    "    \n",
    "    # Compute the denominator P(Y >= T)\n",
    "    denominator = sum([p_N(n) * p_Z2(T, n) for n in range(11)])\n",
    "    ''' \n",
    "\n",
    "    pN_lt_5 = 0\n",
    "    for n in range(5):\n",
    "        pN_lt_5 += p_N(n) * p_Z(T,n)\n",
    "\n",
    "    pY_gt_T = 0\n",
    "    for n in range(11):\n",
    "        pY_gt_T += p_N(n) * p_Z(T, n)\n",
    "\n",
    "    if pY_gt_T > 0: \n",
    "        probabilities.append(pN_lt_5 / pY_gt_T)\n",
    "    else:\n",
    "        probabilities.append(0)\n",
    "\n",
    "print(probabilities)\n",
    "\n",
    "    \n"
   ]
  },
  {
   "cell_type": "code",
   "execution_count": 12,
   "id": "af28f960",
   "metadata": {
    "deletable": false,
    "execution": {
     "iopub.execute_input": "2024-09-26T13:20:12.118993Z",
     "iopub.status.busy": "2024-09-26T13:20:12.118371Z",
     "iopub.status.idle": "2024-09-26T13:20:12.122660Z",
     "shell.execute_reply": "2024-09-26T13:20:12.121720Z"
    },
    "lx_assignment_number": "1",
    "lx_assignment_type": "ASSIGNMENT",
    "lx_assignment_type2print": "Assignment",
    "lx_problem_cell_type": "PROBLEM",
    "lx_problem_number": "4",
    "lx_problem_points": "8"
   },
   "outputs": [],
   "source": [
    "\n",
    "# Part 1: \n",
    "# replace XXX to represent P(N < 5) for T = [0,1,2,...,10], i.e. your answer should be a list\n",
    "# of length 11.\n",
    "\n",
    "\n",
    "\n",
    "problem11_probabilities = probabilities\n"
   ]
  },
  {
   "cell_type": "code",
   "execution_count": 13,
   "id": "66204b27",
   "metadata": {
    "deletable": false,
    "execution": {
     "iopub.execute_input": "2024-09-26T13:20:12.127053Z",
     "iopub.status.busy": "2024-09-26T13:20:12.126591Z",
     "iopub.status.idle": "2024-09-26T13:20:12.132380Z",
     "shell.execute_reply": "2024-09-26T13:20:12.131508Z"
    },
    "lx_assignment_number": "1",
    "lx_assignment_type": "ASSIGNMENT",
    "lx_assignment_type2print": "Assignment",
    "lx_problem_cell_type": "PROBLEM",
    "lx_problem_number": "4",
    "lx_problem_points": "8"
   },
   "outputs": [
    {
     "name": "stdout",
     "output_type": "stream",
     "text": [
      "8\n"
     ]
    }
   ],
   "source": [
    "\n",
    "# Part 2: Give an integer between 0 and 10 which is the answer to 2.\n",
    "min = -1\n",
    "\n",
    "for i, p in enumerate(problem11_probabilities):\n",
    "    if (1-p) >= 0.9:\n",
    "        min = i\n",
    "        break\n",
    "\n",
    "print(min)\n",
    "problem12_T = min\n",
    "\n"
   ]
  },
  {
   "cell_type": "code",
   "execution_count": 14,
   "id": "b09822dd",
   "metadata": {
    "deletable": false,
    "execution": {
     "iopub.execute_input": "2024-09-26T13:20:12.136874Z",
     "iopub.status.busy": "2024-09-26T13:20:12.136468Z",
     "iopub.status.idle": "2024-09-26T13:20:12.151833Z",
     "shell.execute_reply": "2024-09-26T13:20:12.150947Z"
    },
    "lx_assignment_number": "1",
    "lx_assignment_type": "ASSIGNMENT",
    "lx_assignment_type2print": "Assignment",
    "lx_problem_cell_type": "TEST",
    "lx_problem_number": "4",
    "lx_problem_points": "8",
    "lx_test_only": "True"
   },
   "outputs": [
    {
     "name": "stdout",
     "output_type": "stream",
     "text": [
      "Beginning tests for PROBLEM 4\n",
      "\n",
      "Your answers for problem11_probabilities differed on 0 number of positions by more than 10^(-3)\n",
      "\n",
      "The number of points you have scored for this problem is 8 out of 8\n",
      "The number of points you have accumulated thus far is   16 out of 16\n"
     ]
    }
   ],
   "source": [
    "# ASSIGNMENT 1, TEST 4, POINTS 8"
   ]
  },
  {
   "cell_type": "markdown",
   "id": "5ca34e5c",
   "metadata": {
    "deletable": false,
    "lx_assignment_number": "1",
    "lx_assignment_type": "ASSIGNMENT",
    "lx_assignment_type2print": "Assignment",
    "lx_problem_cell_type": "PROBLEM",
    "lx_problem_number": "5",
    "lx_problem_points": "8"
   },
   "source": [
    "---\n",
    "## Assignment 1, PROBLEM 5\n",
    "Maximum Points = 8"
   ]
  },
  {
   "cell_type": "markdown",
   "id": "b838295b",
   "metadata": {
    "deletable": false,
    "lx_assignment_number": "1",
    "lx_assignment_type": "ASSIGNMENT",
    "lx_assignment_type2print": "Assignment",
    "lx_problem_cell_type": "PROBLEM",
    "lx_problem_number": "5",
    "lx_problem_points": "8"
   },
   "source": [
    "\n",
    "## Concentration of measure (Sample exam problem)\n",
    "\n",
    "As you recall, we said that concentration of measure was simply the phenomenon where we expect that the probability of a large deviation of some quantity becoming smaller as we observe more samples: [0.4 points per correct answer]\n",
    "\n",
    "1. Which of the following will exponentially concentrate, i.e. for some $C_1,C_2,C_3,C_4 $ \n",
    "$$\n",
    "    P(Z - \\mathbb{E}[Z] \\geq \\epsilon) \\leq C_1 e^{-C_2 n \\epsilon^2} \\vee C_3 e^{-C_4 n (\\epsilon+1)} \\enspace .\n",
    "$$\n",
    "\n",
    "    1. The empirical variance of i.i.d. random variables with finite mean?\n",
    "    2. The empirical variance of i.i.d. sub-Gaussian random variables?\n",
    "    3. The empirical variance of i.i.d. sub-Exponential random variables?\n",
    "    4. The empirical mean of i.i.d. sub-Gaussian random variables?\n",
    "    5. The empirical mean of i.i.d. sub-Exponential random variables?\n",
    "    6. The empirical mean of i.i.d. random variables with finite variance?\n",
    "    7. The empirical third moment of i.i.d. random variables with finite sixth moment?\n",
    "    8. The empirical fourth moment of i.i.d. sub-Gaussian random variables?\n",
    "    9. The empirical mean of i.i.d. deterministic random variables?\n",
    "    10. The empirical tenth moment of i.i.d. Bernoulli random variables?\n",
    "\n",
    "2. Which of the above will concentrate in the weaker sense, that for some $C_1$\n",
    "$$\n",
    "    P(Z - \\mathbb{E}[Z] \\geq \\epsilon) \\leq \\frac{C_1}{n \\epsilon^2}?\n",
    "$$"
   ]
  },
  {
   "cell_type": "code",
   "execution_count": 1,
   "id": "3556b712",
   "metadata": {
    "deletable": false,
    "execution": {
     "iopub.execute_input": "2024-09-26T13:20:12.155506Z",
     "iopub.status.busy": "2024-09-26T13:20:12.155172Z",
     "iopub.status.idle": "2024-09-26T13:20:12.159060Z",
     "shell.execute_reply": "2024-09-26T13:20:12.158405Z"
    },
    "lx_assignment_number": "1",
    "lx_assignment_type": "ASSIGNMENT",
    "lx_assignment_type2print": "Assignment",
    "lx_problem_cell_type": "PROBLEM",
    "lx_problem_number": "5",
    "lx_problem_points": "8"
   },
   "outputs": [
    {
     "data": {
      "image/png": "[encoded data removed]",
      "text/plain": [
       "<Figure size 1000x600 with 1 Axes>"
      ]
     },
     "metadata": {},
     "output_type": "display_data"
    },
    {
     "data": {
      "image/png": "[encoded data removed]",
      "text/plain": [
       "<Figure size 1000x600 with 1 Axes>"
      ]
     },
     "metadata": {},
     "output_type": "display_data"
    }
   ],
   "source": [
    "import numpy as np\n",
    "import matplotlib.pyplot as plt\n",
    "\n",
    "# Simulate sub-Gaussian random variables (e.g., normal distribution)\n",
    "def simulate_means(n_samples, distribution, params, n_trials=1000):\n",
    "    means = []\n",
    "    for _ in range(n_trials):\n",
    "        data = distribution(*params, size=n_samples)\n",
    "        means.append(np.mean(data))\n",
    "    return means\n",
    "\n",
    "# Plotting function\n",
    "def plot_concentration(n_samples_list, means_list, expected_value, label):\n",
    "    plt.figure(figsize=(10, 6))\n",
    "    for i, n_samples in enumerate(n_samples_list):\n",
    "        plt.hist(means_list[i], bins=30, alpha=0.5, label=f'n = {n_samples}', density=True)\n",
    "    plt.axvline(expected_value, color='red', linestyle='--', label='Expected Value')\n",
    "    plt.title(f'Concentration of {label}')\n",
    "    plt.xlabel('Mean Value')\n",
    "    plt.ylabel('Density')\n",
    "    plt.legend()\n",
    "    plt.show()\n",
    "\n",
    "# Example: Sub-Gaussian (Normal distribution)\n",
    "n_samples_list = [10, 100, 1000]\n",
    "means_list = [simulate_means(n, np.random.normal, [0, 1]) for n in n_samples_list]\n",
    "plot_concentration(n_samples_list, means_list, 0, 'Sub-Gaussian (Normal Distribution)')\n",
    "\n",
    "# Simulate empirical variance\n",
    "def simulate_variances(n_samples, distribution, params, n_trials=1000):\n",
    "    variances = []\n",
    "    for _ in range(n_trials):\n",
    "        data = distribution(*params, size=n_samples)\n",
    "        variances.append(np.var(data, ddof=1))\n",
    "    return variances\n",
    "\n",
    "# Example: Sub-Exponential (Exponential distribution)\n",
    "n_samples_list = [10, 100, 1000]\n",
    "variances_list = [simulate_variances(n, np.random.exponential, [1]) for n in n_samples_list]\n",
    "plot_concentration(n_samples_list, variances_list, 1, 'Sub-Exponential (Exponential Distribution)')\n",
    "\n",
    "\n",
    "\n",
    "# Answers to part 1, which of the alternatives exponentially concentrate, answer as a list\n",
    "# i.e. [1,4,5] that is example 1, 4, and 5 concentrate\n",
    "problem3_answer_1 = [] #2459"
   ]
  },
  {
   "cell_type": "code",
   "execution_count": 16,
   "id": "1859ff70",
   "metadata": {
    "deletable": false,
    "execution": {
     "iopub.execute_input": "2024-09-26T13:20:12.163092Z",
     "iopub.status.busy": "2024-09-26T13:20:12.162717Z",
     "iopub.status.idle": "2024-09-26T13:20:12.763990Z",
     "shell.execute_reply": "2024-09-26T13:20:12.763158Z"
    },
    "lx_assignment_number": "1",
    "lx_assignment_type": "ASSIGNMENT",
    "lx_assignment_type2print": "Assignment",
    "lx_problem_cell_type": "PROBLEM",
    "lx_problem_number": "5",
    "lx_problem_points": "8"
   },
   "outputs": [
    {
     "ename": "NameError",
     "evalue": "name 'XXX' is not defined",
     "output_type": "error",
     "traceback": [
      "\u001b[0;31m---------------------------------------------------------------------------\u001b[0m",
      "\u001b[0;31mNameError\u001b[0m                                 Traceback (most recent call last)",
      "Input \u001b[0;32mIn [16]\u001b[0m, in \u001b[0;36m<cell line: 3>\u001b[0;34m()\u001b[0m\n\u001b[1;32m      1\u001b[0m \u001b[38;5;66;03m# Answers to part 2, which of the alternatives concentrate in the weaker sense, answer as a list\u001b[39;00m\n\u001b[1;32m      2\u001b[0m \u001b[38;5;66;03m# i.e. [1,4,5] that is example 1, 4, and 5 concentrate\u001b[39;00m\n\u001b[0;32m----> 3\u001b[0m problem3_answer_2 \u001b[38;5;241m=\u001b[39m [\u001b[43mXXX\u001b[49m]\n",
      "\u001b[0;31mNameError\u001b[0m: name 'XXX' is not defined"
     ]
    }
   ],
   "source": [
    "\n",
    "# Answers to part 2, which of the alternatives concentrate in the weaker sense, answer as a list\n",
    "# i.e. [1,4,5] that is example 1, 4, and 5 concentrate\n",
    "problem3_answer_2 = [XXX]"
   ]
  },
  {
   "cell_type": "code",
   "execution_count": 17,
   "id": "f8c4fbc9",
   "metadata": {
    "deletable": false,
    "execution": {
     "iopub.execute_input": "2024-09-26T13:20:12.767775Z",
     "iopub.status.busy": "2024-09-26T13:20:12.767377Z",
     "iopub.status.idle": "2024-09-26T13:20:12.783376Z",
     "shell.execute_reply": "2024-09-26T13:20:12.782524Z"
    },
    "lx_assignment_number": "1",
    "lx_assignment_type": "ASSIGNMENT",
    "lx_assignment_type2print": "Assignment",
    "lx_problem_cell_type": "TEST",
    "lx_problem_number": "5",
    "lx_problem_points": "8",
    "lx_test_only": "True"
   },
   "outputs": [
    {
     "name": "stdout",
     "output_type": "stream",
     "text": [
      "Beginning tests for PROBLEM 5\n",
      "\n",
      "Correct answers for part1: 5\n",
      "name 'problem3_answer_2' is not defined\n",
      "\n",
      "The number of points you have scored for this problem is 2 out of 8\n",
      " \n",
      " \n",
      " \n",
      "The number of points you have scored in total for this entire set of Problems is 18 out of 24\n"
     ]
    }
   ],
   "source": [
    "# ASSIGNMENT 1, TEST 5, POINTS 8"
   ]
  },
  {
   "cell_type": "markdown",
   "id": "e3126d1f",
   "metadata": {},
   "source": [
    "The number of points you have scored in total for this entire set of Problems is 18 out of 24."
   ]
  }
 ],
 "metadata": {
  "kernelspec": {
   "display_name": "Python 3",
   "language": "python",
   "name": "python3"
  },
  "language_info": {
   "codemirror_mode": {
    "name": "ipython",
    "version": 3
   },
   "file_extension": ".py",
   "mimetype": "text/x-python",
   "name": "python",
   "nbconvert_exporter": "python",
   "pygments_lexer": "ipython3",
   "version": "3.9.2"
  },
  "lx_assignment_number": 1,
  "lx_course_instance": "2024",
  "lx_course_name": "Introduction to Data Science",
  "lx_course_number": "1MS041"
 },
 "nbformat": 4,
 "nbformat_minor": 5
}
