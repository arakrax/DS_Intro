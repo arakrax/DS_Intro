{
 "cells": [
  {
   "cell_type": "code",
   "execution_count": 1,
   "metadata": {},
   "outputs": [],
   "source": [
    "import numpy as np \n"
   ]
  },
  {
   "cell_type": "code",
   "execution_count": null,
   "metadata": {},
   "outputs": [
    {
     "name": "stdout",
     "output_type": "stream",
     "text": [
      "[ 1.00000000e+00  4.86617333e-09 -4.86617332e-09]\n",
      "[[-8.16496581e-01 -6.88180830e-09 -6.88180833e-09]\n",
      " [-4.08248290e-01 -7.07106778e-01  7.07106785e-01]\n",
      " [-4.08248290e-01  7.07106785e-01 -7.07106778e-01]]\n",
      "[0.5  0.25 0.25]\n",
      "<class 'dict'>\n"
     ]
    }
   ],
   "source": [
    "\n",
    "\n",
    "P = np.array([[0.5, 0.5, 0],\n",
    "              [0.5, 0, 0.5],\n",
    "              [0.5, 0, 0.5]])\n",
    "\n",
    "eigval, eigvec = np.linalg.eig(np.transpose(P))\n",
    "print(eigval)\n",
    "print(eigvec)\n",
    "\n",
    "s0 = np.array([1,0,0])\n",
    "P4 = np.linalg.matrix_power(P,4)\n",
    "r = np.matmul(s0, P4)\n",
    "print(r)\n"
   ]
  }
 ],
 "metadata": {
  "kernelspec": {
   "display_name": "Python 3",
   "language": "python",
   "name": "python3"
  },
  "language_info": {
   "codemirror_mode": {
    "name": "ipython",
    "version": 3
   },
   "file_extension": ".py",
   "mimetype": "text/x-python",
   "name": "python",
   "nbconvert_exporter": "python",
   "pygments_lexer": "ipython3",
   "version": "3.11.2"
  }
 },
 "nbformat": 4,
 "nbformat_minor": 2
}
